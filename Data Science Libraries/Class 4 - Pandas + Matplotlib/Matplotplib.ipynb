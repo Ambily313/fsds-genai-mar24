{
 "cells": [
  {
   "cell_type": "code",
   "execution_count": 9,
   "id": "925369e0-2a13-4584-8e9d-797cba4f86b7",
   "metadata": {},
   "outputs": [],
   "source": [
    "from matplotlib import pyplot as plt"
   ]
  },
  {
   "cell_type": "code",
   "execution_count": 19,
   "id": "5719f54e-829e-465b-9229-3cd6a3a979a2",
   "metadata": {},
   "outputs": [
    {
     "name": "stderr",
     "output_type": "stream",
     "text": [
      "UsageError: unrecognized arguments: #homework\n"
     ]
    }
   ],
   "source": [
    "import matplotlib.pyplot as plt\n",
    "import pandas as pd\n",
    "import numpy as np\n",
    "\n",
    "%matplotlib inline #homework"
   ]
  },
  {
   "cell_type": "code",
   "execution_count": 21,
   "id": "5afe763f-90db-48a8-9102-700f741ad207",
   "metadata": {},
   "outputs": [
    {
     "data": {
      "text/html": [
       "<div>\n",
       "<style scoped>\n",
       "    .dataframe tbody tr th:only-of-type {\n",
       "        vertical-align: middle;\n",
       "    }\n",
       "\n",
       "    .dataframe tbody tr th {\n",
       "        vertical-align: top;\n",
       "    }\n",
       "\n",
       "    .dataframe thead th {\n",
       "        text-align: right;\n",
       "    }\n",
       "</style>\n",
       "<table border=\"1\" class=\"dataframe\">\n",
       "  <thead>\n",
       "    <tr style=\"text-align: right;\">\n",
       "      <th></th>\n",
       "      <th>Survived</th>\n",
       "      <th>Pclass</th>\n",
       "      <th>Name</th>\n",
       "      <th>Sex</th>\n",
       "      <th>Age</th>\n",
       "      <th>Siblings/Spouses Aboard</th>\n",
       "      <th>Parents/Children Aboard</th>\n",
       "      <th>Fare</th>\n",
       "    </tr>\n",
       "  </thead>\n",
       "  <tbody>\n",
       "    <tr>\n",
       "      <th>0</th>\n",
       "      <td>0</td>\n",
       "      <td>3</td>\n",
       "      <td>Mr. Owen Harris Braund</td>\n",
       "      <td>male</td>\n",
       "      <td>22.0</td>\n",
       "      <td>1</td>\n",
       "      <td>0</td>\n",
       "      <td>7.2500</td>\n",
       "    </tr>\n",
       "    <tr>\n",
       "      <th>1</th>\n",
       "      <td>1</td>\n",
       "      <td>1</td>\n",
       "      <td>Mrs. John Bradley (Florence Briggs Thayer) Cum...</td>\n",
       "      <td>female</td>\n",
       "      <td>38.0</td>\n",
       "      <td>1</td>\n",
       "      <td>0</td>\n",
       "      <td>71.2833</td>\n",
       "    </tr>\n",
       "    <tr>\n",
       "      <th>2</th>\n",
       "      <td>1</td>\n",
       "      <td>3</td>\n",
       "      <td>Miss. Laina Heikkinen</td>\n",
       "      <td>female</td>\n",
       "      <td>26.0</td>\n",
       "      <td>0</td>\n",
       "      <td>0</td>\n",
       "      <td>7.9250</td>\n",
       "    </tr>\n",
       "    <tr>\n",
       "      <th>3</th>\n",
       "      <td>1</td>\n",
       "      <td>1</td>\n",
       "      <td>Mrs. Jacques Heath (Lily May Peel) Futrelle</td>\n",
       "      <td>female</td>\n",
       "      <td>35.0</td>\n",
       "      <td>1</td>\n",
       "      <td>0</td>\n",
       "      <td>53.1000</td>\n",
       "    </tr>\n",
       "    <tr>\n",
       "      <th>4</th>\n",
       "      <td>0</td>\n",
       "      <td>3</td>\n",
       "      <td>Mr. William Henry Allen</td>\n",
       "      <td>male</td>\n",
       "      <td>35.0</td>\n",
       "      <td>0</td>\n",
       "      <td>0</td>\n",
       "      <td>8.0500</td>\n",
       "    </tr>\n",
       "  </tbody>\n",
       "</table>\n",
       "</div>"
      ],
      "text/plain": [
       "   Survived  Pclass                                               Name  \\\n",
       "0         0       3                             Mr. Owen Harris Braund   \n",
       "1         1       1  Mrs. John Bradley (Florence Briggs Thayer) Cum...   \n",
       "2         1       3                              Miss. Laina Heikkinen   \n",
       "3         1       1        Mrs. Jacques Heath (Lily May Peel) Futrelle   \n",
       "4         0       3                            Mr. William Henry Allen   \n",
       "\n",
       "      Sex   Age  Siblings/Spouses Aboard  Parents/Children Aboard     Fare  \n",
       "0    male  22.0                        1                        0   7.2500  \n",
       "1  female  38.0                        1                        0  71.2833  \n",
       "2  female  26.0                        0                        0   7.9250  \n",
       "3  female  35.0                        1                        0  53.1000  \n",
       "4    male  35.0                        0                        0   8.0500  "
      ]
     },
     "execution_count": 21,
     "metadata": {},
     "output_type": "execute_result"
    }
   ],
   "source": [
    "import pandas as pd\n",
    "\n",
    "# Importing the Titanic dataset\n",
    "titanic = pd.read_csv('https://web.stanford.edu/class/archive/cs/cs109/cs109.1166/stuff/titanic.csv')\n",
    "titanic.head()"
   ]
  },
  {
   "cell_type": "code",
   "execution_count": null,
   "id": "58adcaf1-9f6f-4b7b-a282-a45d5c15ff55",
   "metadata": {},
   "outputs": [],
   "source": []
  },
  {
   "cell_type": "code",
   "execution_count": 294,
   "id": "9b85fbd5-005d-4d8f-bf5c-d2804008cd94",
   "metadata": {},
   "outputs": [],
   "source": [
    "p1 = pd.DataFrame(titanic['Sex'].value_counts())"
   ]
  },
  {
   "cell_type": "code",
   "execution_count": 302,
   "id": "6a3f9279-9cb2-42e1-985c-6e9d814b141c",
   "metadata": {},
   "outputs": [
    {
     "data": {
      "text/plain": [
       "Sex\n",
       "male      573\n",
       "female    314\n",
       "Name: count, dtype: int64"
      ]
     },
     "execution_count": 302,
     "metadata": {},
     "output_type": "execute_result"
    }
   ],
   "source": [
    "p1['count']"
   ]
  },
  {
   "cell_type": "code",
   "execution_count": 306,
   "id": "1bb127db-ac01-4a46-a060-d3a676c4bd40",
   "metadata": {},
   "outputs": [
    {
     "data": {
      "text/plain": [
       "<BarContainer object of 2 artists>"
      ]
     },
     "execution_count": 306,
     "metadata": {},
     "output_type": "execute_result"
    },
    {
     "data": {
      "image/png": "[encoded data removed]",
      "text/plain": [
       "<Figure size 640x480 with 1 Axes>"
      ]
     },
     "metadata": {},
     "output_type": "display_data"
    }
   ],
   "source": [
    "plt.bar(['Male','Female'],p1['count'])"
   ]
  },
  {
   "cell_type": "code",
   "execution_count": null,
   "id": "bca77a8f-a8e8-456a-9898-1eea7713564c",
   "metadata": {},
   "outputs": [],
   "source": []
  },
  {
   "cell_type": "code",
   "execution_count": null,
   "id": "e684c083-1c00-44f8-9d38-b139618912b8",
   "metadata": {},
   "outputs": [],
   "source": []
  },
  {
   "cell_type": "code",
   "execution_count": null,
   "id": "cac8cf37-9e72-434d-b754-1d38fd44b2dd",
   "metadata": {},
   "outputs": [],
   "source": []
  },
  {
   "cell_type": "markdown",
   "id": "33640f31-e47c-434c-972f-b627fb5d2a93",
   "metadata": {},
   "source": [
    "# Line Plot"
   ]
  },
  {
   "cell_type": "code",
   "execution_count": 28,
   "id": "4d56ae2b-eefd-4046-b8f5-1cef4a77e259",
   "metadata": {},
   "outputs": [],
   "source": [
    "x = [1,2,3,4,5]\n",
    "y = [10,5,2,6,3]"
   ]
  },
  {
   "cell_type": "code",
   "execution_count": 59,
   "id": "52d63619-8caf-47b9-aa6e-24496fb9947b",
   "metadata": {},
   "outputs": [
    {
     "data": {
      "image/png": "[encoded data removed]",
      "text/plain": [
       "<Figure size 640x480 with 1 Axes>"
      ]
     },
     "metadata": {},
     "output_type": "display_data"
    }
   ],
   "source": [
    "plt.plot(x,y)\n",
    "\n",
    "plt.xlabel('X value')\n",
    "plt.ylabel('Y value')\n",
    "plt.title('Title')\n",
    "\n",
    "plt.show()"
   ]
  },
  {
   "cell_type": "markdown",
   "id": "dd8a3dc3-63d2-4c48-90d8-2b8443826f65",
   "metadata": {},
   "source": [
    "# bar Plot"
   ]
  },
  {
   "cell_type": "code",
   "execution_count": 78,
   "id": "d026c445-e67e-48a8-b71c-05f376f9ade2",
   "metadata": {},
   "outputs": [
    {
     "data": {
      "image/png": "[encoded data removed]",
      "text/plain": [
       "<Figure size 640x480 with 1 Axes>"
      ]
     },
     "metadata": {},
     "output_type": "display_data"
    }
   ],
   "source": [
    "plt.bar(x,y,edgecolor='red')\n",
    "plt.plot(x,y,color='#cc0000')\n",
    "\n",
    "plt.show()"
   ]
  },
  {
   "cell_type": "code",
   "execution_count": null,
   "id": "87950265-2a00-4d0b-9a76-305eea219972",
   "metadata": {},
   "outputs": [],
   "source": []
  },
  {
   "cell_type": "markdown",
   "id": "42c2da4b-5bed-4c05-8827-8e5c9343c45e",
   "metadata": {},
   "source": [
    "# Scatter plot"
   ]
  },
  {
   "cell_type": "code",
   "execution_count": 128,
   "id": "2d9e19ed-5c5e-497f-8503-10013afe62a0",
   "metadata": {},
   "outputs": [
    {
     "data": {
      "image/png": "[encoded data removed]",
      "text/plain": [
       "<Figure size 640x480 with 1 Axes>"
      ]
     },
     "metadata": {},
     "output_type": "display_data"
    }
   ],
   "source": [
    "plt.scatter(x,y,marker='*')\n",
    "plt.grid(True)\n",
    "plt.show()"
   ]
  },
  {
   "cell_type": "code",
   "execution_count": null,
   "id": "51acd18a-fde2-438a-8cc5-992cb9339143",
   "metadata": {},
   "outputs": [],
   "source": []
  },
  {
   "cell_type": "code",
   "execution_count": null,
   "id": "e1e27491-c621-4288-af19-c4f59db4642e",
   "metadata": {},
   "outputs": [],
   "source": []
  },
  {
   "cell_type": "code",
   "execution_count": 86,
   "id": "309eaca7-2e96-45f7-b645-a371f1e9d52c",
   "metadata": {
    "collapsed": true,
    "jupyter": {
     "outputs_hidden": true
    }
   },
   "outputs": [
    {
     "data": {
      "text/plain": [
       "array([ 3.95636159e-01,  9.81556477e-02,  5.93346027e-01, -1.14340419e+00,\n",
       "       -9.88276189e-01,  9.94558899e-01, -5.92419192e-01,  1.19598896e+00,\n",
       "       -1.17571643e-01,  7.26777774e-01,  5.22847592e-02,  9.49698243e-01,\n",
       "        7.22951015e-02,  1.64658896e-01,  1.28494948e+00, -4.31677346e-01,\n",
       "       -3.01546145e-01, -8.40102236e-01, -1.40571484e-01,  7.01363793e-01,\n",
       "        1.82809733e+00, -1.41484502e+00, -2.22300374e-01, -6.74516928e-01,\n",
       "        2.45664352e-01, -2.11132552e+00, -4.53752621e-02, -5.17194749e-01,\n",
       "        1.76804189e+00, -2.34427419e+00, -1.90917142e-01, -6.43247051e-01,\n",
       "       -1.41940735e-01, -3.24865389e-01,  1.94477560e-01,  1.14439844e+00,\n",
       "        6.23704053e-01, -5.90997115e-01, -1.73431505e+00, -5.06394479e-01,\n",
       "        8.16063687e-01,  2.31987079e+00,  1.08595431e-01, -7.84504948e-01,\n",
       "       -1.10572591e+00, -5.19235180e-01,  3.73081361e-01,  5.47219384e-01,\n",
       "       -3.61905263e-01,  7.80928963e-01, -4.65159845e-01,  1.01706029e+00,\n",
       "       -5.54721121e-01, -7.28022615e-01,  2.24619269e-01,  3.45609082e-01,\n",
       "       -7.87757278e-01, -7.16234113e-01,  1.46066565e+00, -1.50529748e+00,\n",
       "        6.95414106e-01,  2.34268622e-01, -1.83515885e+00, -8.91724142e-01,\n",
       "        8.90688441e-03,  4.15887648e-02, -1.22609603e+00, -1.38632702e-01,\n",
       "        4.32921208e-02, -6.43332605e-01,  1.24915583e+00, -8.72120729e-01,\n",
       "        1.86063825e+00,  2.92005498e-01, -4.54482992e-01, -1.85145897e+00,\n",
       "       -7.32499887e-01, -8.45506096e-01, -6.58478246e-02,  1.07549907e+00,\n",
       "       -3.83630980e-01, -2.01285133e-01, -3.36559564e-01, -9.43581921e-01,\n",
       "       -7.49713018e-01,  1.75105141e-01, -1.17355421e+00,  8.19773883e-01,\n",
       "       -6.43421285e-01,  9.23454290e-01,  1.92143089e+00,  1.36773573e-01,\n",
       "        7.32509949e-02,  3.11277181e-01, -4.01723677e-01, -9.71191353e-02,\n",
       "       -9.53201562e-02, -1.48838425e+00,  1.77797421e+00,  1.68163933e+00,\n",
       "       -1.67238226e+00,  9.10364236e-01,  1.02248955e+00,  1.53368571e+00,\n",
       "       -2.35052881e+00, -3.16279207e-01,  1.64185300e+00, -5.38730911e-01,\n",
       "        1.60334620e-01, -6.42556735e-01, -8.79972797e-01,  6.70920527e-01,\n",
       "       -9.80808274e-01,  8.38852125e-02,  7.54629168e-01,  9.70269444e-01,\n",
       "        4.62224087e-02, -2.82877097e-02, -7.43289955e-02,  3.17990143e-01,\n",
       "       -1.02791601e+00, -5.02052897e-03,  7.41736741e-01, -1.36914504e-01,\n",
       "       -1.02228743e-01, -1.37166097e+00, -2.41562857e-01, -1.18769502e-01,\n",
       "        9.55692810e-02, -6.80059819e-01, -1.96008318e-01, -1.88890561e-01,\n",
       "        3.11653565e-01, -2.73370084e-01, -4.76222231e-01, -2.36304485e+00,\n",
       "        3.91225155e-01,  1.07291184e+00,  8.24266224e-01,  5.42068616e-01,\n",
       "       -1.03275171e+00, -2.56158832e+00, -8.34604036e-01,  2.30969824e-01,\n",
       "       -2.22931746e+00,  9.28982293e-01,  2.06495090e+00,  9.95947667e-01,\n",
       "        8.37043081e-01, -1.99075056e-01,  7.69425433e-01, -4.51016794e-01,\n",
       "       -7.19088220e-01, -6.73103891e-02, -7.52978958e-01, -5.67341846e-01,\n",
       "       -6.82911907e-01, -1.58519158e-01,  5.28034667e-01, -5.18670893e-02,\n",
       "       -2.39078772e-01,  1.31207941e+00,  5.48265364e-01, -4.00072291e-01,\n",
       "        8.01868198e-01, -2.05977189e+00,  1.74010863e+00, -1.89421867e+00,\n",
       "        4.86682851e-01, -3.32106957e-01,  4.82497764e-01,  8.72998824e-01,\n",
       "        1.39128614e-01,  6.75554438e-01, -7.50909257e-01,  1.41902122e+00,\n",
       "       -3.66626114e-01, -7.17033468e-01, -7.91175673e-01, -9.76650528e-01,\n",
       "        2.10490973e+00,  5.28468188e-01,  1.67766713e+00, -1.66467989e-01,\n",
       "        4.02907931e-01,  1.06425680e+00,  4.18181990e-01, -2.93427929e-01,\n",
       "        8.50273600e-02, -6.83665987e-01,  8.48683831e-01,  3.32048131e-01,\n",
       "       -1.59778250e+00, -1.25881332e+00,  1.72995196e+00,  1.22067334e-01,\n",
       "       -5.83294535e-02, -5.07006247e-01,  1.40706154e+00, -5.59239141e-01,\n",
       "       -1.94326931e+00,  2.57558893e-02, -5.14797354e-01,  1.22158397e+00,\n",
       "        1.69342973e+00,  3.32706486e-01, -2.80854401e-01,  1.78845595e-01,\n",
       "       -4.80711015e-01,  3.88700220e-01, -4.22569566e-02, -9.80540421e-02,\n",
       "       -1.09644319e+00,  1.97485220e+00,  1.30852692e+00,  9.72907344e-01,\n",
       "        1.05385181e+00,  2.00485785e-01, -4.99993247e-01,  6.19117332e-02,\n",
       "        9.00207956e-01,  3.87944045e-01, -9.07821934e-01,  2.03213868e+00,\n",
       "       -3.87978982e-01,  8.89964243e-01, -1.01054582e+00,  8.72371665e-01,\n",
       "       -2.84373567e+00,  4.05483952e-01,  2.85411401e-01,  1.63593562e-02,\n",
       "       -3.65912109e-01, -1.04148909e+00,  6.12760691e-01,  1.50201939e+00,\n",
       "       -3.48657151e-01,  1.63236579e-01,  1.58407822e+00, -5.29075194e-01,\n",
       "       -1.24046169e+00, -1.41575440e+00, -4.14642743e-01,  6.46531102e-01,\n",
       "       -1.08858230e+00,  1.40421709e+00,  1.80128578e+00, -6.39947744e-01,\n",
       "       -1.92388447e+00, -1.94548075e+00,  2.07930482e-01, -2.92910430e-01,\n",
       "       -1.36887529e-01,  1.38681414e+00,  1.53401340e+00, -1.30984110e+00,\n",
       "       -1.28415630e+00, -1.12378261e+00, -1.83499064e+00,  5.56660527e-01,\n",
       "        1.26130147e+00,  9.08651667e-01, -1.27411378e+00,  1.36070519e+00,\n",
       "        4.74549400e-01,  3.83757409e-01, -8.56515530e-01,  7.71951791e-01,\n",
       "       -7.40918101e-01, -2.24798703e-01,  2.62019540e-01, -7.93632123e-01,\n",
       "       -4.19263200e-01,  2.49361838e+00, -9.01792026e-01,  2.01677593e-01,\n",
       "        1.02308046e+00, -4.81286185e-01,  1.45219468e+00, -1.21554733e+00,\n",
       "       -1.63092756e+00, -4.13046468e-01,  2.95957031e-01, -9.17319664e-01,\n",
       "        7.53991148e-01,  2.16581053e+00,  7.99734564e-02,  1.22378570e+00,\n",
       "        8.44245204e-01,  1.06096952e-01, -1.38627425e+00,  8.03861328e-01,\n",
       "        1.87219144e-02,  9.23296143e-01, -2.77731656e-01,  1.34734331e+00,\n",
       "       -1.04792107e+00,  1.87651129e-01, -1.09828633e+00, -1.16504797e+00,\n",
       "       -8.17325717e-01,  5.93531312e-01, -1.83040909e-01,  1.94545522e-01,\n",
       "        1.56736682e-01,  6.98553813e-01,  1.26089163e+00,  1.23359555e+00,\n",
       "        1.61878549e+00,  8.07708784e-01, -5.88848745e-02,  2.21081640e+00,\n",
       "        1.15394898e+00,  1.14507694e+00, -1.01176179e+00,  1.65430738e+00,\n",
       "       -2.65095993e-01,  3.50548538e-01, -1.02108454e+00, -8.72989054e-01,\n",
       "        3.63765776e-01,  7.84429431e-01,  1.14660413e+00, -7.40684372e-01,\n",
       "       -1.41713015e-02,  4.79197426e-01, -7.55205031e-01, -5.27586043e-01,\n",
       "        1.69400766e-01,  1.21599006e+00,  5.31934625e-01, -3.01746017e-01,\n",
       "       -2.31043873e+00,  4.18200649e-01, -2.21329090e-01,  2.32285367e-01,\n",
       "        3.34102869e-01, -4.69621791e-01,  4.68446412e-01, -7.10208987e-01,\n",
       "       -8.69574617e-01, -7.06059371e-01,  8.03978704e-01,  1.23134355e-01,\n",
       "       -9.06875482e-01,  8.06323752e-01,  6.46744621e-01, -7.43810023e-01,\n",
       "       -2.57301640e-01, -1.46299847e+00,  1.75997936e+00,  2.85628095e+00,\n",
       "       -8.72044474e-01,  1.49066108e+00,  2.09760570e+00,  1.14031342e+00,\n",
       "       -6.61956847e-01,  1.12443810e+00,  9.95225717e-01,  1.24741311e+00,\n",
       "        1.03830814e+00,  3.85503142e-01, -7.63118426e-01, -2.38438899e-01,\n",
       "        1.30985356e+00, -2.77485812e+00, -2.75211064e-02, -4.03651794e-01,\n",
       "       -1.31650120e-01, -6.41899368e-01,  3.19173178e-01, -4.32832201e-01,\n",
       "        3.51205341e-01, -1.56411187e+00, -4.15085000e-01,  3.36788720e-02,\n",
       "        4.85231457e-01, -1.22288785e+00,  8.11007703e-02,  2.96229817e-01,\n",
       "       -1.90689883e+00, -3.10347645e-01, -3.19400778e-01, -9.25474101e-01,\n",
       "        9.18560484e-01, -1.37821884e+00, -9.91370509e-01,  2.59187950e-01,\n",
       "       -2.91486848e-01,  5.77147360e-01,  9.66344525e-01,  5.26020517e-01,\n",
       "       -5.46122377e-01,  1.34896555e-01,  1.00606315e-02, -2.11049702e+00,\n",
       "        1.72205680e+00,  1.62574792e+00, -9.21110199e-01, -1.53235673e+00,\n",
       "       -2.00095813e+00, -1.48763650e+00,  6.26470435e-02,  1.29159309e+00,\n",
       "       -2.55824607e-01, -2.34941883e-01, -6.23817593e-02,  8.59293904e-02,\n",
       "       -2.05652775e-01, -5.22479186e-01,  2.10105115e+00,  1.61599267e+00,\n",
       "        1.08054913e+00, -1.81832946e+00,  5.97753521e-01,  3.58801923e-01,\n",
       "       -5.38226307e-01, -1.85566028e+00,  9.32848738e-01, -3.63047027e-02,\n",
       "        2.50334389e-01, -6.71990535e-01,  1.11230850e+00,  6.53981933e-01,\n",
       "       -7.92508415e-02,  2.41056477e+00,  7.39913355e-01,  1.99895705e-01,\n",
       "        1.06970004e+00,  4.77380539e-01, -1.85812783e+00,  1.62232439e+00,\n",
       "        1.19049481e-02,  3.96868443e-01,  1.30787891e+00,  3.37159749e-01,\n",
       "        8.12163130e-01,  9.65341111e-01,  2.94699434e-01,  2.28910067e-02,\n",
       "        3.36587166e-01,  8.24415502e-01, -2.56910957e+00, -4.97731067e-01,\n",
       "        2.40227143e-02, -3.81680789e-01,  1.01008433e+00, -9.72658842e-01,\n",
       "        9.11558931e-02,  1.20179180e+00,  2.69398694e-01, -1.23325223e+00,\n",
       "       -5.57947666e-02, -8.00381660e-01,  9.15125724e-01,  3.43143671e-01,\n",
       "       -1.81703694e-01,  2.37129133e-01,  1.26098470e+00,  1.03942209e+00,\n",
       "        6.13026758e-02,  1.52293901e+00, -3.88282901e-01, -1.04922574e+00,\n",
       "        5.08345454e-01,  5.86093107e-01, -8.57590313e-01, -1.87517396e-01,\n",
       "        6.34397278e-01,  1.86714819e+00, -7.78615835e-01,  5.78065399e-01,\n",
       "       -1.36746656e+00,  1.13636361e+00,  1.24882446e+00,  6.39650093e-01,\n",
       "        3.91251858e-01,  5.75172030e-01, -7.01622196e-01,  6.81711859e-01,\n",
       "       -5.56420348e-01, -3.30958317e-01,  1.08691986e+00, -2.29270261e-01,\n",
       "       -8.39158596e-01, -7.06182004e-01, -8.36088672e-02,  4.08072352e-01,\n",
       "        8.53275687e-01,  9.08369572e-01, -8.75769860e-01,  8.13437635e-02,\n",
       "        1.36145179e+00,  6.85571939e-01, -1.00271179e+00, -4.35063516e-01,\n",
       "        1.69103106e+00, -2.57542252e-02,  9.94602828e-01,  1.17629442e-01,\n",
       "        8.03701299e-01,  5.23929298e-01, -2.05169400e-02,  2.66056196e+00,\n",
       "        5.61566764e-01, -7.47213011e-01, -6.55499345e-01,  1.25836595e+00,\n",
       "       -2.19878114e+00,  6.94192567e-01,  4.56375011e-01,  3.05226128e-01,\n",
       "       -1.81187707e+00,  1.35076980e+00, -3.28735015e-01, -8.85028957e-01,\n",
       "       -8.50442640e-01, -1.39342794e+00,  5.39775414e-01, -1.14055294e+00,\n",
       "        1.02123572e+00,  1.07302898e-01,  3.34461573e-01,  7.41943201e-02,\n",
       "       -2.89512043e-01, -6.30894637e-01, -5.94123694e-01, -9.87338908e-01,\n",
       "       -9.57663128e-01, -7.52081580e-03,  1.21860909e+00, -1.27687132e+00,\n",
       "       -3.34626678e-01,  1.28215747e+00,  1.15965015e+00,  2.05658908e-01,\n",
       "        7.82693931e-02, -2.52143566e-01,  7.75055812e-01, -1.04561802e+00,\n",
       "       -8.86777375e-01,  1.48445402e+00,  4.96237781e-01,  1.12838880e+00,\n",
       "        1.01255934e-02, -2.95639136e+00,  1.83284693e+00, -2.81503813e-01,\n",
       "        8.09821153e-03, -2.95783838e-02,  2.96749076e-01, -1.80145680e-01,\n",
       "        7.17053189e-01, -4.47985133e-01, -1.12533669e-01,  9.46504277e-01,\n",
       "       -6.96246269e-01, -1.73080785e-01,  9.40429094e-01, -1.81611695e+00,\n",
       "       -1.29026089e+00,  1.54174464e+00, -1.20362312e+00,  3.06658652e-02,\n",
       "       -7.71748280e-03, -6.28839424e-01,  9.21180859e-01,  1.63329881e-01,\n",
       "        8.21613685e-01, -5.13900966e-01, -5.57706700e-01,  1.78239518e+00,\n",
       "       -2.96013591e-01,  3.14776447e-01,  6.52794332e-01,  1.66913900e+00,\n",
       "        2.56643785e-01, -8.92158687e-02, -2.92446901e+00,  7.27096425e-01,\n",
       "        1.19032150e-02,  1.83347570e-01, -7.39034629e-02,  9.42011395e-01,\n",
       "       -8.68491923e-01, -6.48611271e-01, -1.35505436e+00, -3.69529156e-01,\n",
       "       -7.91607429e-01, -1.84014965e+00, -1.16829492e+00, -1.42312621e-01,\n",
       "        3.61125706e-01, -2.02261536e+00,  2.33553555e-01,  7.70133431e-01,\n",
       "        6.72759888e-01,  3.98935541e-01,  1.92561765e+00, -6.51021961e-01,\n",
       "       -3.94766961e-01, -1.10234025e+00, -2.18998591e+00,  7.25946287e-01,\n",
       "       -1.60864683e-02, -1.72812612e+00, -1.01246558e-01,  7.91938795e-01,\n",
       "        1.19848059e-01, -1.85274132e+00,  9.33574769e-01,  1.06811410e+00,\n",
       "        2.22460439e+00,  3.18709289e-01,  1.79136039e+00, -4.78925296e-01,\n",
       "        1.91233176e-01,  1.39186335e+00, -8.39508153e-01, -6.89607678e-01,\n",
       "        2.99591231e-01,  2.04978307e+00, -1.01037999e+00, -5.85017664e-02,\n",
       "       -5.27534272e-01,  7.81591376e-02,  1.08425804e+00, -1.17496790e+00,\n",
       "       -1.15811354e+00, -3.86123501e-01,  2.10063700e-01, -8.25953803e-01,\n",
       "       -2.50659479e+00, -1.47074727e-01, -2.49785632e-01, -7.53013076e-01,\n",
       "        1.13970867e+00, -5.29656990e-01, -8.62108159e-01, -1.10480358e+00,\n",
       "        1.55961162e+00,  1.13271272e+00, -7.78837239e-01, -1.36237205e+00,\n",
       "       -1.58286417e-01, -9.69179451e-01,  2.82211937e-01,  7.20101743e-01,\n",
       "        6.24536395e-01, -2.67124663e-01, -1.00049810e+00,  1.23889511e-01,\n",
       "        7.95892877e-01,  1.12981935e+00, -6.15748381e-01, -1.31258716e+00,\n",
       "        7.38023983e-01, -1.99046527e-01, -6.86070361e-02, -6.90461541e-01,\n",
       "       -4.41287122e-02,  6.57208382e-02,  9.53654340e-01,  1.20404464e+00,\n",
       "        6.90685878e-01,  1.96262114e+00, -3.99306712e-01,  1.70464646e+00,\n",
       "       -1.46504985e+00, -8.27663485e-01, -1.59720707e-01,  6.20739919e-01,\n",
       "        2.34055206e-01, -3.41983299e-01,  4.57930606e-01, -7.06024956e-01,\n",
       "        7.94621228e-01, -7.19031242e-01,  5.17809820e-01, -1.33910283e+00,\n",
       "        7.17676010e-01,  1.23043374e+00,  1.56038080e+00,  2.94241913e+00,\n",
       "       -1.34768335e+00,  4.95932236e-01,  7.91368417e-01,  1.31738834e+00,\n",
       "       -1.31585950e+00, -8.34417315e-01, -9.57821231e-03,  1.12958637e+00,\n",
       "       -4.04405053e-01,  4.65687666e-01,  1.18640690e+00,  6.07814178e-01,\n",
       "       -1.39684146e+00, -6.31087280e-01,  1.09277023e+00, -4.62267839e-01,\n",
       "        1.42442071e+00, -1.33236314e-01,  1.39060255e+00, -9.53088461e-01,\n",
       "       -5.94557768e-01,  1.01555264e+00, -4.31586531e-01, -6.65785889e-01,\n",
       "       -3.83198158e-01, -8.56424837e-01, -6.81189638e-01, -5.48747628e-01,\n",
       "        4.42040502e-01,  1.44913750e+00,  1.92546873e-01, -2.23348737e-01,\n",
       "        3.99388990e-01,  4.24569058e-01,  6.13565728e-01,  6.53552850e-01,\n",
       "        1.15524300e+00,  9.39446477e-01, -8.00587286e-01,  1.03727575e+00,\n",
       "       -2.33941843e-01,  6.14041714e-01,  1.79116579e+00, -6.52322999e-01,\n",
       "       -1.01083540e+00, -2.00256160e+00, -2.99784279e-01,  3.84236411e-01,\n",
       "        4.37764281e-01,  1.14901604e+00,  1.71459829e+00,  1.62074940e+00,\n",
       "       -3.77794464e-01, -6.19866726e-01,  6.29798474e-02,  4.25205248e-02,\n",
       "        2.77905813e-01, -4.82325168e-01,  1.71155142e+00,  4.98294214e-01,\n",
       "        1.58231766e+00, -3.68490603e+00, -5.78302270e-01, -1.46032175e+00,\n",
       "       -6.89091242e-01,  1.10940155e+00, -6.00481904e-01,  2.34663886e+00,\n",
       "       -1.85408972e+00,  4.87286104e-01,  3.29480506e-01, -2.17151815e+00,\n",
       "        1.81356772e+00,  1.11174679e-01,  1.32128210e+00,  3.93407224e-01,\n",
       "        9.78299641e-01, -4.15303555e-01, -6.74688678e-01,  3.35327523e-01,\n",
       "        5.68461735e-01, -9.05851714e-01, -5.51565591e-01, -6.27783032e-01,\n",
       "        1.37037828e+00, -3.63773900e-01,  1.42661143e-01, -9.65375364e-02,\n",
       "        1.50804720e+00,  3.94289555e-01, -1.69121981e+00, -8.53274332e-01,\n",
       "        1.30274977e+00, -2.26101825e+00,  1.01091326e+00,  4.00528679e-01,\n",
       "       -1.40333537e+00, -1.65640942e+00, -7.08056243e-01,  1.09640912e+00,\n",
       "        1.64374280e+00,  1.28455132e+00, -4.94304375e-01,  4.04419283e-01,\n",
       "        5.68591070e-01,  1.56340670e-01,  9.60541323e-01,  6.60040828e-01,\n",
       "        4.81676036e-01, -5.29374500e-01, -1.75710597e+00, -6.24214348e-01,\n",
       "       -4.81320706e-01,  9.36682188e-01, -6.28337252e-01,  7.85292586e-01,\n",
       "       -3.70143144e-01, -4.84011650e-01, -3.25135438e-01, -7.72009500e-01,\n",
       "       -1.52405608e-01,  6.98841645e-01,  5.51367212e-01,  2.25460730e-01,\n",
       "        5.31421506e-02,  8.21360379e-01, -3.99113506e-01, -8.60789700e-01,\n",
       "       -1.70727379e-01, -3.85638579e-02,  7.85036372e-01, -3.28736509e-02,\n",
       "       -9.47136202e-01,  4.22155041e-01,  5.62504622e-01, -3.22495674e-02,\n",
       "       -1.62114777e-01, -5.02080117e-01, -2.16825132e+00, -2.71887976e-02,\n",
       "        3.95029440e-01, -7.82943815e-01,  1.14886083e+00,  1.42199560e+00,\n",
       "        9.99798641e-01, -2.20195535e-01,  4.61358526e-01,  4.51721347e-01,\n",
       "        1.86392701e+00,  1.53507348e+00,  2.89697389e-01, -9.37616234e-01,\n",
       "       -2.29326080e-01,  6.76823965e-01, -6.64199956e-01, -5.41486859e-01,\n",
       "       -1.02446147e+00, -3.94985026e-01,  3.39790115e-01, -2.16366242e-01,\n",
       "       -2.14469190e+00, -9.16837496e-01,  1.23551035e+00,  1.37073611e+00,\n",
       "       -1.11259443e+00,  1.71180860e+00,  6.92494623e-01,  4.55182855e-02,\n",
       "       -7.06679226e-01,  1.43991778e-01, -1.93839592e+00, -9.72013785e-01,\n",
       "        1.82134187e-01, -9.49558960e-02,  7.77732201e-01,  1.23131713e-01,\n",
       "       -1.63139271e-01, -3.17090834e-01,  1.79403885e+00, -1.18086042e+00,\n",
       "        2.08499885e+00, -1.53574296e+00,  6.56029829e-01,  7.41312112e-01,\n",
       "       -4.15706999e-01,  6.50151520e-01,  9.95290917e-02,  3.29563860e-01,\n",
       "       -3.08694800e-01, -1.14467354e-01,  1.38807093e+00, -4.44619163e-01,\n",
       "        3.60610300e-01,  2.93012754e-01,  3.10619530e-01, -4.00544765e-01,\n",
       "       -6.20160733e-01,  2.66969380e-01, -2.13978648e-01, -3.54132970e-01,\n",
       "        8.26532076e-01, -1.61379803e+00, -7.58720190e-01, -8.83089355e-01,\n",
       "       -4.55139332e-01, -4.12897970e-01,  4.97696794e-01,  3.81829903e-01,\n",
       "       -8.71571703e-01,  3.60503232e-01,  1.05823488e+00, -9.22808996e-02,\n",
       "       -5.11812337e-01,  4.79753232e-01, -2.38444985e-01,  7.98687350e-01,\n",
       "        7.53864346e-02,  4.89239829e-01,  1.56302510e-01, -5.07786900e-02,\n",
       "        7.85792051e-01,  1.47820500e+00,  1.07162076e+00, -2.14287808e+00,\n",
       "        1.90438299e+00, -6.36679049e-01, -5.19096148e-01, -8.51902495e-01,\n",
       "        1.15351737e+00, -3.14112977e-01, -1.20249707e+00, -3.88280628e-01,\n",
       "       -1.35481593e+00, -1.13957674e+00,  8.93612759e-01, -1.16005301e+00,\n",
       "       -7.22642011e-02, -9.97121244e-01, -3.68322652e-01,  6.05167687e-01,\n",
       "       -2.51961368e-01, -1.04304847e+00, -8.35744642e-01, -1.79723812e+00,\n",
       "       -1.74611564e-01,  1.99475797e-01,  1.21889916e-01,  1.42212046e+00,\n",
       "       -1.23857664e+00,  1.58927688e+00,  2.53667526e-01,  1.06506221e+00,\n",
       "       -8.13653500e-01, -7.14949952e-01, -7.94512504e-01, -9.19490185e-02,\n",
       "        4.97372672e-01, -2.40468323e-01,  9.05927692e-02,  5.15962342e-01,\n",
       "        6.03615146e-01, -1.32466477e+00, -7.61117426e-01,  1.12257153e+00,\n",
       "        1.52170683e-03,  1.82330627e+00, -4.17959631e-01, -1.17152386e+00,\n",
       "        3.78709263e-01, -1.40225045e-01,  1.38037393e+00, -2.28561924e-02,\n",
       "       -2.04670956e-01, -1.11634569e+00, -1.02470476e+00, -2.76458812e-01,\n",
       "       -7.53618949e-01,  1.12624901e+00,  2.92437195e-01,  2.33173527e-01,\n",
       "        1.81642995e+00, -1.91245744e-01, -4.93397069e-01,  4.33430066e-02,\n",
       "       -6.74083745e-01, -7.75544220e-01, -1.23467545e+00,  1.87030786e-01,\n",
       "       -2.90037578e-02, -1.09189739e+00,  4.62355060e-01,  6.41622084e-01,\n",
       "        4.10238493e-01,  1.72676950e+00, -6.09734985e-01,  8.50920302e-01,\n",
       "       -8.01889972e-01,  1.90009806e+00, -2.20491158e-02,  2.44540075e+00,\n",
       "        4.80117033e-01, -7.19849908e-01, -1.41969056e+00,  1.17525088e+00,\n",
       "       -3.00623239e-01, -1.59926724e+00, -1.24760060e+00, -1.91575848e+00,\n",
       "        2.89362769e-01, -1.78953608e+00,  9.92486933e-01, -6.43868481e-01,\n",
       "       -3.30215647e-03, -3.76035105e-01,  1.07229723e+00,  3.29056242e-01])"
      ]
     },
     "execution_count": 86,
     "metadata": {},
     "output_type": "execute_result"
    }
   ],
   "source": [
    "data = np.random.randn(1000)\n",
    "data"
   ]
  },
  {
   "cell_type": "code",
   "execution_count": 104,
   "id": "3c835608-9201-4fcd-8ec2-8e98068a3528",
   "metadata": {},
   "outputs": [
    {
     "data": {
      "image/png": "[encoded data removed]",
      "text/plain": [
       "<Figure size 640x480 with 1 Axes>"
      ]
     },
     "metadata": {},
     "output_type": "display_data"
    }
   ],
   "source": [
    "plt.hist(data,bins=30)\n",
    "plt.show()"
   ]
  },
  {
   "cell_type": "code",
   "execution_count": 120,
   "id": "7501666f-16f2-4221-85fb-eb81268650a3",
   "metadata": {},
   "outputs": [
    {
     "data": {
      "image/png": "[encoded data removed]",
      "text/plain": [
       "<Figure size 640x480 with 1 Axes>"
      ]
     },
     "metadata": {},
     "output_type": "display_data"
    }
   ],
   "source": [
    "plt.hist(titanic['Age'],bins=8,edgecolor='black')\n",
    "plt.show()"
   ]
  },
  {
   "cell_type": "code",
   "execution_count": 118,
   "id": "27a373eb-f1eb-4634-b479-ea9b256f8aca",
   "metadata": {},
   "outputs": [
    {
     "data": {
      "text/plain": [
       "count    887.000000\n",
       "mean      29.471443\n",
       "std       14.121908\n",
       "min        0.420000\n",
       "25%       20.250000\n",
       "50%       28.000000\n",
       "75%       38.000000\n",
       "max       80.000000\n",
       "Name: Age, dtype: float64"
      ]
     },
     "execution_count": 118,
     "metadata": {},
     "output_type": "execute_result"
    }
   ],
   "source": [
    "titanic['Age'].describe()"
   ]
  },
  {
   "cell_type": "code",
   "execution_count": 130,
   "id": "4c836ba5-0323-433c-b98b-45b734199a8c",
   "metadata": {},
   "outputs": [
    {
     "data": {
      "text/plain": [
       "Age\n",
       "22.00    39\n",
       "28.00    37\n",
       "18.00    36\n",
       "21.00    34\n",
       "24.00    34\n",
       "         ..\n",
       "0.92      1\n",
       "23.50     1\n",
       "36.50     1\n",
       "55.50     1\n",
       "74.00     1\n",
       "Name: count, Length: 89, dtype: int64"
      ]
     },
     "execution_count": 130,
     "metadata": {},
     "output_type": "execute_result"
    }
   ],
   "source": [
    "titanic['Age'].value_counts()"
   ]
  },
  {
   "cell_type": "code",
   "execution_count": null,
   "id": "65a7154f-3234-4b32-93a5-13c3905a29f1",
   "metadata": {},
   "outputs": [],
   "source": []
  },
  {
   "cell_type": "code",
   "execution_count": null,
   "id": "1433f886-5a7a-4d1f-ae90-0034c6c43d5e",
   "metadata": {},
   "outputs": [],
   "source": []
  },
  {
   "cell_type": "code",
   "execution_count": null,
   "id": "5a115b8b-b0b9-4815-b6dd-2fa401cd454b",
   "metadata": {},
   "outputs": [],
   "source": []
  },
  {
   "cell_type": "markdown",
   "id": "aa78a04f-7bfc-44d7-befc-b666af75149d",
   "metadata": {},
   "source": [
    "# Subplot"
   ]
  },
  {
   "cell_type": "code",
   "execution_count": 161,
   "id": "7ffba64e-9e75-4852-9f84-e0beaa3e626d",
   "metadata": {},
   "outputs": [
    {
     "ename": "ValueError",
     "evalue": "num must be an integer with 1 <= num <= 9, not 11",
     "output_type": "error",
     "traceback": [
      "\u001b[0;31m---------------------------------------------------------------------------\u001b[0m",
      "\u001b[0;31mValueError\u001b[0m                                Traceback (most recent call last)",
      "Cell \u001b[0;32mIn[161], line 3\u001b[0m\n\u001b[1;32m      1\u001b[0m plt\u001b[38;5;241m.\u001b[39msubplot(\u001b[38;5;241m3\u001b[39m,\u001b[38;5;241m3\u001b[39m,\u001b[38;5;241m3\u001b[39m)\n\u001b[1;32m      2\u001b[0m plt\u001b[38;5;241m.\u001b[39mhist(titanic[\u001b[38;5;124m'\u001b[39m\u001b[38;5;124mAge\u001b[39m\u001b[38;5;124m'\u001b[39m],bins\u001b[38;5;241m=\u001b[39m\u001b[38;5;241m8\u001b[39m,edgecolor\u001b[38;5;241m=\u001b[39m\u001b[38;5;124m'\u001b[39m\u001b[38;5;124mblack\u001b[39m\u001b[38;5;124m'\u001b[39m)\n\u001b[0;32m----> 3\u001b[0m plt\u001b[38;5;241m.\u001b[39msubplot(\u001b[38;5;241m3\u001b[39m,\u001b[38;5;241m3\u001b[39m,\u001b[38;5;241m11\u001b[39m)\n\u001b[1;32m      4\u001b[0m plt\u001b[38;5;241m.\u001b[39mscatter(x,y)\n\u001b[1;32m      5\u001b[0m plt\u001b[38;5;241m.\u001b[39mshow()\n",
      "File \u001b[0;32m~/anaconda3/lib/python3.11/site-packages/matplotlib/pyplot.py:1440\u001b[0m, in \u001b[0;36msubplot\u001b[0;34m(*args, **kwargs)\u001b[0m\n\u001b[1;32m   1437\u001b[0m fig \u001b[38;5;241m=\u001b[39m gcf()\n\u001b[1;32m   1439\u001b[0m \u001b[38;5;66;03m# First, search for an existing subplot with a matching spec.\u001b[39;00m\n\u001b[0;32m-> 1440\u001b[0m key \u001b[38;5;241m=\u001b[39m SubplotSpec\u001b[38;5;241m.\u001b[39m_from_subplot_args(fig, args)\n\u001b[1;32m   1442\u001b[0m \u001b[38;5;28;01mfor\u001b[39;00m ax \u001b[38;5;129;01min\u001b[39;00m fig\u001b[38;5;241m.\u001b[39maxes:\n\u001b[1;32m   1443\u001b[0m     \u001b[38;5;66;03m# If we found an Axes at the position, we can re-use it if the user passed no\u001b[39;00m\n\u001b[1;32m   1444\u001b[0m     \u001b[38;5;66;03m# kwargs or if the axes class and kwargs are identical.\u001b[39;00m\n\u001b[1;32m   1445\u001b[0m     \u001b[38;5;28;01mif\u001b[39;00m (ax\u001b[38;5;241m.\u001b[39mget_subplotspec() \u001b[38;5;241m==\u001b[39m key\n\u001b[1;32m   1446\u001b[0m         \u001b[38;5;129;01mand\u001b[39;00m (kwargs \u001b[38;5;241m==\u001b[39m {}\n\u001b[1;32m   1447\u001b[0m              \u001b[38;5;129;01mor\u001b[39;00m (ax\u001b[38;5;241m.\u001b[39m_projection_init\n\u001b[1;32m   1448\u001b[0m                  \u001b[38;5;241m==\u001b[39m fig\u001b[38;5;241m.\u001b[39m_process_projection_requirements(\u001b[38;5;241m*\u001b[39m\u001b[38;5;241m*\u001b[39mkwargs)))):\n",
      "File \u001b[0;32m~/anaconda3/lib/python3.11/site-packages/matplotlib/gridspec.py:599\u001b[0m, in \u001b[0;36mSubplotSpec._from_subplot_args\u001b[0;34m(figure, args)\u001b[0m\n\u001b[1;32m    597\u001b[0m \u001b[38;5;28;01melse\u001b[39;00m:\n\u001b[1;32m    598\u001b[0m     \u001b[38;5;28;01mif\u001b[39;00m \u001b[38;5;129;01mnot\u001b[39;00m \u001b[38;5;28misinstance\u001b[39m(num, Integral) \u001b[38;5;129;01mor\u001b[39;00m num \u001b[38;5;241m<\u001b[39m \u001b[38;5;241m1\u001b[39m \u001b[38;5;129;01mor\u001b[39;00m num \u001b[38;5;241m>\u001b[39m rows\u001b[38;5;241m*\u001b[39mcols:\n\u001b[0;32m--> 599\u001b[0m         \u001b[38;5;28;01mraise\u001b[39;00m \u001b[38;5;167;01mValueError\u001b[39;00m(\n\u001b[1;32m    600\u001b[0m             \u001b[38;5;124mf\u001b[39m\u001b[38;5;124m\"\u001b[39m\u001b[38;5;124mnum must be an integer with 1 <= num <= \u001b[39m\u001b[38;5;132;01m{\u001b[39;00mrows\u001b[38;5;241m*\u001b[39mcols\u001b[38;5;132;01m}\u001b[39;00m\u001b[38;5;124m, \u001b[39m\u001b[38;5;124m\"\u001b[39m\n\u001b[1;32m    601\u001b[0m             \u001b[38;5;124mf\u001b[39m\u001b[38;5;124m\"\u001b[39m\u001b[38;5;124mnot \u001b[39m\u001b[38;5;132;01m{\u001b[39;00mnum\u001b[38;5;132;01m!r}\u001b[39;00m\u001b[38;5;124m\"\u001b[39m\n\u001b[1;32m    602\u001b[0m         )\n\u001b[1;32m    603\u001b[0m     i \u001b[38;5;241m=\u001b[39m j \u001b[38;5;241m=\u001b[39m num\n\u001b[1;32m    604\u001b[0m \u001b[38;5;28;01mreturn\u001b[39;00m gs[i\u001b[38;5;241m-\u001b[39m\u001b[38;5;241m1\u001b[39m:j]\n",
      "\u001b[0;31mValueError\u001b[0m: num must be an integer with 1 <= num <= 9, not 11"
     ]
    },
    {
     "data": {
      "image/png": "[encoded data removed]",
      "text/plain": [
       "<Figure size 640x480 with 1 Axes>"
      ]
     },
     "metadata": {},
     "output_type": "display_data"
    }
   ],
   "source": [
    "plt.subplot(3,3,3)\n",
    "plt.hist(titanic['Age'],bins=8,edgecolor='black')\n",
    "plt.subplot(3,3,11)\n",
    "plt.scatter(x,y)\n",
    "plt.show()"
   ]
  },
  {
   "cell_type": "code",
   "execution_count": 163,
   "id": "02b6e0f2-866c-43cb-8b34-75a276b93e02",
   "metadata": {},
   "outputs": [
    {
     "data": {
      "image/png": "[encoded data removed]",
      "text/plain": [
       "<Figure size 640x480 with 9 Axes>"
      ]
     },
     "metadata": {},
     "output_type": "display_data"
    }
   ],
   "source": [
    "for i in range(1,10):\n",
    "    plt.subplot(3,3,i)\n",
    "    plt.bar(x,y)\n",
    "\n",
    "plt.show()"
   ]
  },
  {
   "cell_type": "code",
   "execution_count": null,
   "id": "20f17003-b3c4-4d94-b481-38a46eebad56",
   "metadata": {},
   "outputs": [],
   "source": []
  },
  {
   "cell_type": "markdown",
   "id": "f1c01932-4f8f-4242-b795-b5242841eb9a",
   "metadata": {},
   "source": [
    "    -   `plt.xlim()` / `plt.ylim()`: Set the limits for the x-axis and y-axis, respectively.\n",
    "\n",
    "    -   `plt.xticks()` / `plt.yticks()`: Set the locations and labels of ticks on the x-axis and y-axis, respectively.\n",
    "\n",
    "    -   `plt.grid()`: Enable or disable grid lines on the plot.\n",
    "\n",
    "    -   `plt.legend()`: Add a legend to the plot to label different lines or markers.\n",
    "\n",
    "    -   `plt.tight_layout()`: Automatically adjust subplot parameters to give specified padding.\n",
    "\n",
    "    -   `plt.savefig()`: Save the plot to a file (e.g., PNG, PDF, SVG).\n",
    "\n",
    "    -   `plt.subplots_adjust()`: Adjust the spacing between subplots.\n",
    "\n",
    "    -   `plt.axhline()` / `plt.axvline()`: Add horizontal or vertical lines to the plot.\n",
    "\n",
    "    -   `plt.text()`: Add text to the plot at specified coordinates.\n",
    "\n",
    "    -   `plt.annotate()`: Add annotations with arrows to points on the plot."
   ]
  },
  {
   "cell_type": "code",
   "execution_count": 210,
   "id": "1f37e966-2d5b-40fc-914f-9f24fb7614bd",
   "metadata": {},
   "outputs": [
    {
     "data": {
      "image/png": "[encoded data removed]",
      "text/plain": [
       "<Figure size 640x480 with 1 Axes>"
      ]
     },
     "metadata": {},
     "output_type": "display_data"
    },
    {
     "data": {
      "text/plain": [
       "<Figure size 640x480 with 0 Axes>"
      ]
     },
     "metadata": {},
     "output_type": "display_data"
    }
   ],
   "source": [
    "plt.hist(titanic['Age'],bins=8,edgecolor='black',label='Age Info')\n",
    "\n",
    "plt.plot(x,y,label = 'ALine')\n",
    "\n",
    "plt.xlabel('Age')\n",
    "plt.ylabel('Frequency')\n",
    "\n",
    "plt.xlim(0,100)\n",
    "plt.ylim(0,500)\n",
    "plt.grid(True)\n",
    "\n",
    "plt.xticks(np.arange(0,100,5))\n",
    "plt.yticks([0,200,300],['Min','Med','Max'])\n",
    "\n",
    "plt.tight_layout()\n",
    "plt.legend()\n",
    "\n",
    "plt.show()\n",
    "\n",
    "\n",
    "plt.savefig('Age Frequency.png')"
   ]
  },
  {
   "cell_type": "code",
   "execution_count": null,
   "id": "129ad7a3-cff5-47dd-bf47-164784eb0b35",
   "metadata": {},
   "outputs": [],
   "source": []
  },
  {
   "cell_type": "code",
   "execution_count": null,
   "id": "c64328d0-75fd-4020-9d2f-1ffdbc95e636",
   "metadata": {},
   "outputs": [],
   "source": []
  },
  {
   "cell_type": "code",
   "execution_count": 218,
   "id": "9b396792-3523-4c6e-be1a-e02eca85290b",
   "metadata": {},
   "outputs": [],
   "source": [
    "x = np.linspace(0,10,100)\n",
    "y1 = np.sin(x)\n",
    "y2 = np.cos(x)"
   ]
  },
  {
   "cell_type": "code",
   "execution_count": 277,
   "id": "946af605-b7a1-48f9-aece-29a7791f577e",
   "metadata": {},
   "outputs": [
    {
     "data": {
      "image/png": "[encoded data removed]",
      "text/plain": [
       "<Figure size 640x480 with 1 Axes>"
      ]
     },
     "metadata": {},
     "output_type": "display_data"
    }
   ],
   "source": [
    "plt.plot(x,y1,label='Sin ka graph')\n",
    "plt.plot(x,y2,label = 'Cos ka graph')\n",
    "plt.grid()\n",
    "plt.tight_layout()\n",
    "plt.legend(loc='upper right')\n",
    "\n",
    "plt.xlabel('X Axis Label')\n",
    "plt.ylabel('Y Axis Label')\n",
    "plt.title('Plot Title')\n",
    "plt.xlim(-10, 10)  # Set x-axis limits\n",
    "plt.ylim(-4, 4)  # Set y-axis limits\n",
    "plt.xticks(np.arange(0, 11,3))  # Set custom tick locations on x-axis\n",
    "plt.yticks([-1, 0, 1], ['Min', 'Mid', 'Max'])  # Set custom tick labels on y-axis\n",
    "\n",
    "plt.annotate('origin',(0,0),color ='red')\n",
    "#plt.annotate('Highest Value', xy=(3.14, 1), xytext=(400, 60),\n",
    "   #          arrowprops=dict(facecolor='black', shrink=0.05))\n",
    "\n",
    "plt.text(3,0,\"I am here\")\n",
    "\n",
    "plt.show()"
   ]
  },
  {
   "cell_type": "code",
   "execution_count": null,
   "id": "d9a15534-3534-4470-a7bd-371a62fb86d3",
   "metadata": {},
   "outputs": [],
   "source": []
  },
  {
   "cell_type": "code",
   "execution_count": null,
   "id": "780c05f3-1ba7-49b2-ae57-783f8e17f484",
   "metadata": {},
   "outputs": [],
   "source": []
  },
  {
   "cell_type": "code",
   "execution_count": null,
   "id": "90fff4da-2761-4958-a503-434864c3850b",
   "metadata": {},
   "outputs": [],
   "source": []
  },
  {
   "cell_type": "code",
   "execution_count": null,
   "id": "3847ee30-c315-4785-982e-23a633905e5d",
   "metadata": {},
   "outputs": [],
   "source": []
  },
  {
   "cell_type": "code",
   "execution_count": null,
   "id": "ce756689-2dfc-4464-9e83-4f073c4d87ab",
   "metadata": {},
   "outputs": [],
   "source": []
  },
  {
   "cell_type": "code",
   "execution_count": 280,
   "id": "7503931f-c75d-4122-b5f4-f1545c10ec36",
   "metadata": {},
   "outputs": [
    {
     "data": {
      "text/plain": [
       "<Figure size 640x480 with 0 Axes>"
      ]
     },
     "metadata": {},
     "output_type": "display_data"
    }
   ],
   "source": [
    "fig = plt.figure()\n",
    "\n",
    "\n",
    "\n"
   ]
  },
  {
   "cell_type": "code",
   "execution_count": null,
   "id": "70bc8cc6-8a25-403b-9e8d-9702aa90b9d4",
   "metadata": {},
   "outputs": [],
   "source": []
  },
  {
   "cell_type": "code",
   "execution_count": null,
   "id": "1eedf830-2812-4382-ad5d-e2b3c4bcdce6",
   "metadata": {},
   "outputs": [],
   "source": []
  }
 ],
 "metadata": {
  "kernelspec": {
   "display_name": "Python 3 (ipykernel)",
   "language": "python",
   "name": "python3"
  },
  "language_info": {
   "codemirror_mode": {
    "name": "ipython",
    "version": 3
   },
   "file_extension": ".py",
   "mimetype": "text/x-python",
   "name": "python",
   "nbconvert_exporter": "python",
   "pygments_lexer": "ipython3",
   "version": "3.11.5"
  }
 },
 "nbformat": 4,
 "nbformat_minor": 5
}
