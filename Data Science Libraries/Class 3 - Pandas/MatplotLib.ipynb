{
 "cells": [
  {
   "cell_type": "code",
   "execution_count": null,
   "id": "b04b07e2-2c9a-45a2-ae6e-7e62832c9bdb",
   "metadata": {},
   "outputs": [],
   "source": []
  }
 ],
 "metadata": {
  "kernelspec": {
   "display_name": "Python 3 (ipykernel)",
   "language": "python",
   "name": "python3"
  },
  "language_info": {
   "name": ""
  }
 },
 "nbformat": 4,
 "nbformat_minor": 5
}
