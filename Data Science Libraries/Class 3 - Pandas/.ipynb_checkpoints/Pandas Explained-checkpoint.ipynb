{
  "cells": [
    {
      "cell_type": "markdown",
      "metadata": {},
      "source": [
        "# Introduction to Pandas and Data Manipulation\n",
        "\n",
        "This notebook provides a comprehensive introduction to pandas, a powerful data manipulation library in Python. We'll cover various concepts and techniques using the Titanic dataset as our primary example."
      ]
    },
    {
      "cell_type": "code",
      "metadata": {},
      "source": [
        "# Import necessary libraries\n",
        "import pandas as pd\n",
        "import numpy as np\n",
        "\n",
        "# Set pandas to display all columns\n",
        "pd.set_option('display.max_columns', None)"
      ]
    },
    {
      "cell_type": "markdown",
      "metadata": {},
      "source": [
        "## 1. Loading Data\n",
        "\n",
        "Pandas provides various functions to load data from different file formats. Let's explore some of them."
      ]
    },
    {
      "cell_type": "code",
      "metadata": {},
      "source": [
        "# Load CSV file\n",
        "titanic_csv = pd.read_csv(\"https://raw.githubusercontent.com/datasciencedojo/datasets/master/titanic.csv\")\n",
        "print(\"CSV data:\")\n",
        "print(titanic_csv.head())\n",
        "\n",
        "# Load JSON file (assuming we have a JSON file of the Titanic data)\n",
        "titanic_json = pd.read_json(\"titanicdata.json\")\n",
        "print(\"\\nJSON data:\")\n",
        "print(titanic_json.head())\n",
        "\n",
        "# Load data from a SQL database (this is just an example, not runnable without a database)\n",
        "# import sqlite3\n",
        "# conn = sqlite3.connect('titanic.db')\n",
        "# titanic_sql = pd.read_sql_query(\"SELECT * FROM passengers\", conn)\n",
        "# print(\"\\nSQL data:\")\n",
        "# print(titanic_sql.head())\n",
        "\n",
        "# For this tutorial, we'll use the CSV data\n",
        "titanic = titanic_csv"
      ]
    },
    {
      "cell_type": "markdown",
      "metadata": {},
      "source": [
        "## 2. Basic DataFrame Operations\n",
        "\n",
        "Let's explore some basic operations we can perform on our DataFrame."
      ]
    },
    {
      "cell_type": "code",
      "metadata": {},
      "source": [
        "# Display the first few rows\n",
        "print(titanic.head())\n",
        "\n",
        "# Display the last few rows\n",
        "print(titanic.tail())\n",
        "\n",
        "# Get basic information about the DataFrame\n",
        "print(titanic.info())\n",
        "\n",
        "# Get statistical summary of numerical columns\n",
        "print(titanic.describe())\n",
        "\n",
        "# Get column names\n",
        "print(titanic.columns)\n",
        "\n",
        "# Get the shape of the DataFrame (rows, columns)\n",
        "print(titanic.shape)"
      ]
    },
    {
      "cell_type": "markdown",
      "metadata": {},
      "source": [
        "## 3. Creating DataFrames\n",
        "\n",
        "While we've loaded our main dataset from a file, let's see how we can create DataFrames from scratch."
      ]
    },
    {
      "cell_type": "code",
      "metadata": {},
      "source": [
        "# Create a DataFrame from a list\n",
        "list_df = pd.DataFrame([1, 2, 3, 4], columns=['Numbers'])\n",
        "print(\"DataFrame from list:\")\n",
        "print(list_df)\n",
        "\n",
        "# Create a DataFrame from a dictionary\n",
        "dict_df = pd.DataFrame({'A': [1, 2, 3], 'B': [4, 5, 6]})\n",
        "print(\"\\nDataFrame from dictionary:\")\n",
        "print(dict_df)\n",
        "\n",
        "# Create a DataFrame with a custom index\n",
        "indexed_df = pd.DataFrame({'Name': ['Alice', 'Bob', 'Charlie'], 'Age': [25, 30, 35]}, index=['P1', 'P2', 'P3'])\n",
        "print(\"\\nDataFrame with custom index:\")\n",
        "print(indexed_df)"
      ]
    },
    {
      "cell_type": "markdown",
      "metadata": {},
      "source": [
        "## 4. Selecting Data\n",
        "\n",
        "Pandas provides multiple ways to select data from a DataFrame."
      ]
    },
    {
      "cell_type": "code",
      "metadata": {},
      "source": [
        "# Select a single column\n",
        "print(titanic['Name'].head())\n",
        "\n",
        "# Select multiple columns\n",
        "print(titanic[['Name', 'Age', 'Sex']].head())\n",
        "\n",
        "# Select rows by position using iloc\n",
        "print(titanic.iloc[0:5, 0:3])  # First 5 rows, first 3 columns\n",
        "\n",
        "# Select rows by label using loc\n",
        "print(titanic.loc[0:4, ['Name', 'Age', 'Sex']])  # First 5 rows, specified columns\n",
        "\n",
        "# Boolean indexing\n",
        "print(titanic[titanic['Age'] > 70])  # Passengers over 70 years old"
      ]
    },
    {
      "cell_type": "markdown",
      "metadata": {},
      "source": [
        "## 5. Adding and Removing Columns"
      ]
    },
    {
      "cell_type": "code",
      "metadata": {},
      "source": [
        "# Add a new column\n",
        "titanic['Age_Group'] = pd.cut(titanic['Age'], bins=[0, 18, 35, 50, 100], labels=['Child', 'Young Adult', 'Adult', 'Senior'])\n",
        "print(titanic[['Name', 'Age', 'Age_Group']].head())\n",
        "\n",
        "# Remove a column\n",
        "titanic_no_cabin = titanic.drop('Cabin', axis=1)\n",
        "print(titanic_no_cabin.columns)\n",
        "\n",
        "# Rename columns\n",
        "titanic_renamed = titanic.rename(columns={'Pclass': 'PassengerClass', 'SibSp': 'SiblingsSpouses'})\n",
        "print(titanic_renamed.columns)"
      ]
    },
    {
      "cell_type": "markdown",
      "metadata": {},
      "source": [
        "## 6. Handling Missing Data"
      ]
    },
    {
      "cell_type": "code",
      "metadata": {},
      "source": [
        "# Check for missing values\n",
        "print(titanic.isnull().sum())\n",
        "\n",
        "# Fill missing values\n",
        "titanic_filled = titanic.fillna({'Age': titanic['Age'].mean(), 'Embarked': 'S'})\n",
        "print(titanic_filled.isnull().sum())\n",
        "\n",
        "# Drop rows with missing values\n",
        "titanic_dropped = titanic.dropna()\n",
        "print(f\"Original shape: {titanic.shape}, Shape after dropping NA: {titanic_dropped.shape}\")"
      ]
    },
    {
      "cell_type": "markdown",
      "metadata": {},
      "source": [
        "## 7. Grouping and Aggregation"
      ]
    },
    {
      "cell_type": "code",
      "metadata": {},
      "source": [
        "# Group by passenger class and calculate mean age and fare\n",
        "class_stats = titanic.groupby('Pclass')[['Age', 'Fare']].mean()\n",
        "print(class_stats)\n",
        "\n",
        "# Count survivors by sex\n",
        "survival_by_sex = titanic.groupby(['Sex', 'Survived'])['Survived'].count().unstack()\n",
        "print(survival_by_sex)\n",
        "\n",
        "# Multiple aggregations\n",
        "age_stats = titanic.groupby('Pclass')['Age'].agg(['mean', 'min', 'max'])\n",
        "print(age_stats)"
      ]
    },
    {
      "cell_type": "markdown",
      "metadata": {},
      "source": [
        "## 8. Merging and Joining DataFrames"
      ]
    },
    {
      "cell_type": "code",
      "metadata": {},
      "source": [
        "# Create two sample DataFrames\n",
        "df1 = pd.DataFrame({'ID': [1, 2, 3, 4], 'Name': ['Alice', 'Bob', 'Charlie', 'David']})\n",
        "df2 = pd.DataFrame({'ID': [1, 2, 3, 5], 'Age': [25, 30, 35, 40]})\n",
        "\n",
        "# Inner join\n",
        "inner_join = pd.merge(df1, df2, on='ID')\n",
        "print(\"Inner Join:\")\n",
        "print(inner_join)\n",
        "\n",
        "# Outer join\n",
        "outer_join = pd.merge(df1, df2, on='ID', how='outer')\n",
        "print(\"\\nOuter Join:\")\n",
        "print(outer_join)\n",
        "\n",
        "# Left join\n",
        "left_join = pd.merge(df1, df2, on='ID', how='left')\n",
        "print(\"\\nLeft Join:\")\n",
        "print(left_join)"
      ]
    },
    {
      "cell_type": "markdown",
      "metadata": {},
      "source": [
        "## 9. Reshaping Data"
      ]
    },
    {
      "cell_type": "code",
      "metadata": {},
      "source": [
        "# Create a sample DataFrame\n",
        "data = pd.DataFrame({\n",
        "    'Date': ['2023-01-01', '2023-01-01', '2023-01-02', '2023-01-02'],\n",
        "    'Product': ['A', 'B', 'A', 'B'],\n",
        "    'Sales': [100, 150, 120, 180]\n",
        "})\n",
        "\n",
        "# Pivot the data\n",
        "pivoted = data.pivot(index='Date', columns='Product', values='Sales')\n",
        "print(\"Pivoted Data:\")\n",
        "print(pivoted)\n",
        "\n",
        "# Melt the pivoted data back\n",
        "melted = pivoted.reset_index().melt(id_vars=['Date'], var_name='Product', value_name='Sales')\n",
        "print(\"\\nMelted Data:\")\n",
        "print(melted)"
      ]
    },
    {
      "cell_type": "markdown",
      "metadata": {},
      "source": [
        "## 10. Data Visualization with Pandas\n",
        "\n",
        "Pandas integrates well with matplotlib for basic plotting."
      ]
    },
    {
      "cell_type": "code",
      "metadata": {},
      "source": [
        "import matplotlib.pyplot as plt\n",
        "\n",
        "# Bar plot of survival count by passenger class\n",
        "survival_by_class = titanic.groupby('Pclass')['Survived'].sum()\n",
        "survival_by_class.plot(kind='bar')\n",
        "plt.title('Survival Count by Passenger Class')\n",
        "plt.xlabel('Passenger Class')\n",
        "plt.ylabel('Number of Survivors')\n",
        "plt.show()\n",
        "\n",
        "# Histogram of passenger ages\n",
        "titanic['Age'].hist(bins=20)\n",
        "plt.title('Distribution of Passenger Ages')\n",
        "plt.xlabel('Age')\n",
        "plt.ylabel('Count')\n",
        "plt.show()\n",
        "\n",
        "# Scatter plot of age vs fare\n",
        "plt.scatter(titanic['Age'], titanic['Fare'])\n",
        "plt.title('Age vs Fare')\n",
        "plt.xlabel('Age')\n",
        "plt.ylabel('Fare')\n",
        "plt.show()"
      ]
    },
    {
      "cell_type": "markdown",
      "metadata": {},
      "source": [
        "## Conclusion\n",
        "\n",
        "This notebook has covered the basics of pandas and data manipulation using the Titanic dataset. We've explored loading data, basic DataFrame operations, selecting and filtering data, handling missing values, grouping and aggregation, merging DataFrames, reshaping data, and basic visualization. These skills form the foundation for more advanced data analysis and machine learning tasks."
      ]
    }
  ],
  "metadata": {
    "kernelspec": {
      "display_name": "Python 3",
      "language": "python",
      "name": "python3"
    },
    "language_info": {
      "codemirror_mode": {
        "name": "ipython",
        "version": 3
      },
      "file_extension": ".py",
      "mimetype": "text/x-python",
      "name": "python",
      "nbconvert_exporter": "python",
      "pygments_lexer": "ipython3",
      "version": "3.8.8"
    }
  },
  "nbformat": 4,
  "nbformat_minor": 4
}