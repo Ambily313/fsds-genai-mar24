{
 "cells": [
  {
   "cell_type": "markdown",
   "id": "0f513eef-9e7d-4396-9ab2-90f538239b5a",
   "metadata": {},
   "source": [
    "# Numpy Cont"
   ]
  },
  {
   "cell_type": "markdown",
   "id": "fec98fcb-c577-4b01-ac5e-ad212306b8b1",
   "metadata": {},
   "source": [
    "# Matrix Operation"
   ]
  },
  {
   "cell_type": "code",
   "execution_count": 11,
   "id": "f204557c-ddab-4d04-b284-d8726976edae",
   "metadata": {},
   "outputs": [],
   "source": [
    "import numpy as np"
   ]
  },
  {
   "cell_type": "code",
   "execution_count": 15,
   "id": "4090b5cd-dd4e-47bd-9ecf-1dbe168da3e0",
   "metadata": {},
   "outputs": [],
   "source": [
    "\n",
    "a1 = np.arange(1,7).reshape(2,3)\n"
   ]
  },
  {
   "cell_type": "code",
   "execution_count": 19,
   "id": "8f305c49-9063-47f3-826f-0677004e1a00",
   "metadata": {},
   "outputs": [
    {
     "data": {
      "text/plain": [
       "array([[1, 2, 3],\n",
       "       [4, 5, 6]])"
      ]
     },
     "execution_count": 19,
     "metadata": {},
     "output_type": "execute_result"
    }
   ],
   "source": [
    "a1"
   ]
  },
  {
   "cell_type": "code",
   "execution_count": 34,
   "id": "568a291c-69ce-46e0-8977-d75dae3798d8",
   "metadata": {},
   "outputs": [],
   "source": [
    "a2 = np.arange(7,13).reshape(3,2)"
   ]
  },
  {
   "cell_type": "code",
   "execution_count": 27,
   "id": "483b102f-8cf4-4041-b349-0e892f785e14",
   "metadata": {},
   "outputs": [
    {
     "data": {
      "text/plain": [
       "array([[ 7,  8],\n",
       "       [ 9, 10],\n",
       "       [11, 12]])"
      ]
     },
     "execution_count": 27,
     "metadata": {},
     "output_type": "execute_result"
    }
   ],
   "source": [
    "a2"
   ]
  },
  {
   "cell_type": "code",
   "execution_count": 36,
   "id": "62a35951-1c67-473a-8e77-805f58d56829",
   "metadata": {},
   "outputs": [
    {
     "data": {
      "text/plain": [
       "array([[ 58,  64],\n",
       "       [139, 154]])"
      ]
     },
     "execution_count": 36,
     "metadata": {},
     "output_type": "execute_result"
    }
   ],
   "source": [
    "np.dot(a1,a2)"
   ]
  },
  {
   "cell_type": "code",
   "execution_count": 40,
   "id": "95570341-8e5a-4c3f-9fa0-9e4b3e63cd5d",
   "metadata": {},
   "outputs": [],
   "source": [
    "a3 = np.arange(7,13).reshape(1,6)"
   ]
  },
  {
   "cell_type": "code",
   "execution_count": 42,
   "id": "4096f71e-ab07-4203-ad48-b3e640e25808",
   "metadata": {},
   "outputs": [
    {
     "ename": "ValueError",
     "evalue": "shapes (2,3) and (1,6) not aligned: 3 (dim 1) != 1 (dim 0)",
     "output_type": "error",
     "traceback": [
      "\u001b[0;31m---------------------------------------------------------------------------\u001b[0m",
      "\u001b[0;31mValueError\u001b[0m                                Traceback (most recent call last)",
      "Cell \u001b[0;32mIn[42], line 1\u001b[0m\n\u001b[0;32m----> 1\u001b[0m np\u001b[38;5;241m.\u001b[39mdot(a1,a3)\n",
      "\u001b[0;31mValueError\u001b[0m: shapes (2,3) and (1,6) not aligned: 3 (dim 1) != 1 (dim 0)"
     ]
    }
   ],
   "source": [
    "np.dot(a1,a3)"
   ]
  },
  {
   "cell_type": "code",
   "execution_count": null,
   "id": "74092550-0f8f-4339-b119-bf0034c1e217",
   "metadata": {},
   "outputs": [],
   "source": []
  },
  {
   "cell_type": "code",
   "execution_count": null,
   "id": "2530252f-7009-44fd-a840-37186b67b2f2",
   "metadata": {},
   "outputs": [],
   "source": []
  },
  {
   "cell_type": "code",
   "execution_count": null,
   "id": "806724c3-9fff-4292-8e05-b999ec34eec5",
   "metadata": {},
   "outputs": [],
   "source": []
  },
  {
   "cell_type": "code",
   "execution_count": null,
   "id": "814885c0-b79e-47ac-a514-ecc09a06cb65",
   "metadata": {},
   "outputs": [],
   "source": []
  },
  {
   "cell_type": "markdown",
   "id": "3724f91d-e72c-4dfa-ae2d-51f0eecd821e",
   "metadata": {},
   "source": [
    "# Normal Numpy Array Operation"
   ]
  },
  {
   "cell_type": "code",
   "execution_count": 50,
   "id": "73a20d72-b271-49fb-8add-b48ca377a6dc",
   "metadata": {},
   "outputs": [],
   "source": [
    "\n",
    "a5 = np.arange(1,7).reshape(2,3)\n",
    "a6 = np.arange(11,17).reshape(2,3)\n"
   ]
  },
  {
   "cell_type": "code",
   "execution_count": 54,
   "id": "1e2256c8-0c16-491d-93e3-63518afea54e",
   "metadata": {},
   "outputs": [
    {
     "data": {
      "text/plain": [
       "array([[1, 2, 3],\n",
       "       [4, 5, 6]])"
      ]
     },
     "execution_count": 54,
     "metadata": {},
     "output_type": "execute_result"
    }
   ],
   "source": [
    "a5"
   ]
  },
  {
   "cell_type": "code",
   "execution_count": 58,
   "id": "e9bf0628-0554-436f-8aef-319c81205228",
   "metadata": {},
   "outputs": [
    {
     "data": {
      "text/plain": [
       "array([[11, 12, 13],\n",
       "       [14, 15, 16]])"
      ]
     },
     "execution_count": 58,
     "metadata": {},
     "output_type": "execute_result"
    }
   ],
   "source": [
    "a6"
   ]
  },
  {
   "cell_type": "code",
   "execution_count": 62,
   "id": "7704ba08-5ce5-4888-9ce2-5f7fa6dc5bf9",
   "metadata": {},
   "outputs": [
    {
     "data": {
      "text/plain": [
       "array([[12, 14, 16],\n",
       "       [18, 20, 22]])"
      ]
     },
     "execution_count": 62,
     "metadata": {},
     "output_type": "execute_result"
    }
   ],
   "source": [
    "a5+a6"
   ]
  },
  {
   "cell_type": "code",
   "execution_count": 66,
   "id": "faa199e9-1360-456b-b330-bd85ff9c4bb3",
   "metadata": {},
   "outputs": [
    {
     "data": {
      "text/plain": [
       "array([[-10, -10, -10],\n",
       "       [-10, -10, -10]])"
      ]
     },
     "execution_count": 66,
     "metadata": {},
     "output_type": "execute_result"
    }
   ],
   "source": [
    "a5-a6"
   ]
  },
  {
   "cell_type": "code",
   "execution_count": 68,
   "id": "2294e01f-6f50-47b2-9eb5-2d90e1950086",
   "metadata": {},
   "outputs": [
    {
     "data": {
      "text/plain": [
       "array([[11, 24, 39],\n",
       "       [56, 75, 96]])"
      ]
     },
     "execution_count": 68,
     "metadata": {},
     "output_type": "execute_result"
    }
   ],
   "source": [
    "a5*a6"
   ]
  },
  {
   "cell_type": "code",
   "execution_count": null,
   "id": "f8b5d318-fe59-4ed4-97bf-461894598c8d",
   "metadata": {},
   "outputs": [],
   "source": []
  },
  {
   "cell_type": "markdown",
   "id": "33837ea6-9f23-4046-ab8f-c2432ce95047",
   "metadata": {},
   "source": [
    "# Broadcasting"
   ]
  },
  {
   "cell_type": "code",
   "execution_count": 77,
   "id": "b2a70d4b-be94-42f2-b0e2-d235415515fc",
   "metadata": {},
   "outputs": [
    {
     "data": {
      "text/plain": [
       "array([[1, 2, 3],\n",
       "       [4, 5, 6],\n",
       "       [7, 8, 9]])"
      ]
     },
     "execution_count": 77,
     "metadata": {},
     "output_type": "execute_result"
    }
   ],
   "source": [
    "a9 = np.arange(1,11).reshape(5,2)\n",
    "\n",
    "a9"
   ]
  },
  {
   "cell_type": "code",
   "execution_count": 81,
   "id": "731386ad-2cb4-4359-ae2c-1b82941bbc80",
   "metadata": {},
   "outputs": [
    {
     "data": {
      "text/plain": [
       "array([[1],\n",
       "       [2],\n",
       "       [3]])"
      ]
     },
     "execution_count": 81,
     "metadata": {},
     "output_type": "execute_result"
    }
   ],
   "source": [
    "a10 = np.arange(1,4).reshape(3,1)\n",
    "a10"
   ]
  },
  {
   "cell_type": "code",
   "execution_count": 83,
   "id": "11efa765-da0c-4ea3-9bd6-3da61fd8e0d1",
   "metadata": {},
   "outputs": [
    {
     "data": {
      "text/plain": [
       "array([[ 2,  3,  4],\n",
       "       [ 6,  7,  8],\n",
       "       [10, 11, 12]])"
      ]
     },
     "execution_count": 83,
     "metadata": {},
     "output_type": "execute_result"
    }
   ],
   "source": [
    "a9 + a10"
   ]
  },
  {
   "cell_type": "code",
   "execution_count": 90,
   "id": "883ce03b-9d65-476b-986a-856b09ff017a",
   "metadata": {},
   "outputs": [
    {
     "data": {
      "text/plain": [
       "array([[ 1,  2],\n",
       "       [ 3,  4],\n",
       "       [ 5,  6],\n",
       "       [ 7,  8],\n",
       "       [ 9, 10]])"
      ]
     },
     "execution_count": 90,
     "metadata": {},
     "output_type": "execute_result"
    }
   ],
   "source": [
    "a11 = np.arange(1,11).reshape(5,2)\n",
    "\n",
    "a11"
   ]
  },
  {
   "cell_type": "code",
   "execution_count": 94,
   "id": "213d717c-7c82-47d6-bf54-37c268728ae6",
   "metadata": {},
   "outputs": [
    {
     "ename": "ValueError",
     "evalue": "operands could not be broadcast together with shapes (5,2) (3,1) ",
     "output_type": "error",
     "traceback": [
      "\u001b[0;31m---------------------------------------------------------------------------\u001b[0m",
      "\u001b[0;31mValueError\u001b[0m                                Traceback (most recent call last)",
      "Cell \u001b[0;32mIn[94], line 1\u001b[0m\n\u001b[0;32m----> 1\u001b[0m a11 \u001b[38;5;241m+\u001b[39m a10\n",
      "\u001b[0;31mValueError\u001b[0m: operands could not be broadcast together with shapes (5,2) (3,1) "
     ]
    }
   ],
   "source": [
    "a11 + a10"
   ]
  },
  {
   "cell_type": "code",
   "execution_count": 115,
   "id": "97cdd038-86eb-4726-975b-51e4eb409375",
   "metadata": {},
   "outputs": [],
   "source": [
    "a12= np.arange(0,9).reshape(3,3)"
   ]
  },
  {
   "cell_type": "code",
   "execution_count": 123,
   "id": "a3af83b7-e44c-487b-8fcb-8e4dfb9e1df2",
   "metadata": {},
   "outputs": [],
   "source": [
    "a13 = np.arange(0,3).reshape(3,1)"
   ]
  },
  {
   "cell_type": "code",
   "execution_count": 117,
   "id": "d8d46f1e-5a75-460f-9431-1c76131b9d73",
   "metadata": {},
   "outputs": [
    {
     "data": {
      "text/plain": [
       "array([[0, 1, 2],\n",
       "       [3, 4, 5],\n",
       "       [6, 7, 8]])"
      ]
     },
     "execution_count": 117,
     "metadata": {},
     "output_type": "execute_result"
    }
   ],
   "source": [
    "a12"
   ]
  },
  {
   "cell_type": "code",
   "execution_count": 127,
   "id": "94d6169a-19a1-4b96-bdd2-5fd6e121f82e",
   "metadata": {},
   "outputs": [
    {
     "data": {
      "text/plain": [
       "array([[0, 1, 2]])"
      ]
     },
     "execution_count": 127,
     "metadata": {},
     "output_type": "execute_result"
    }
   ],
   "source": [
    "a13"
   ]
  },
  {
   "cell_type": "code",
   "execution_count": 125,
   "id": "aa7acfde-79c1-4eeb-8887-435017c10d40",
   "metadata": {},
   "outputs": [
    {
     "data": {
      "text/plain": [
       "array([[ 0,  2,  4],\n",
       "       [ 3,  5,  7],\n",
       "       [ 6,  8, 10]])"
      ]
     },
     "execution_count": 125,
     "metadata": {},
     "output_type": "execute_result"
    }
   ],
   "source": [
    "a12 + a13"
   ]
  },
  {
   "cell_type": "code",
   "execution_count": null,
   "id": "694fd5a9-fa69-4866-843a-af768235aa9b",
   "metadata": {},
   "outputs": [],
   "source": []
  },
  {
   "cell_type": "code",
   "execution_count": null,
   "id": "46de26a0-3450-4036-8b71-4141a04bf8b9",
   "metadata": {},
   "outputs": [],
   "source": []
  },
  {
   "cell_type": "code",
   "execution_count": 130,
   "id": "bc0493cc-418e-4aa9-8f2a-832fec1cbb36",
   "metadata": {},
   "outputs": [
    {
     "data": {
      "text/plain": [
       "(array([1, 2, 3]), (3,))"
      ]
     },
     "execution_count": 130,
     "metadata": {},
     "output_type": "execute_result"
    }
   ],
   "source": [
    "b1 = np.array([1,2,3])\n",
    "b1,b1.shape"
   ]
  },
  {
   "cell_type": "code",
   "execution_count": 141,
   "id": "ce0a0c59-85be-4755-bf14-3937601e1927",
   "metadata": {},
   "outputs": [
    {
     "data": {
      "text/plain": [
       "array([6, 7, 8])"
      ]
     },
     "execution_count": 141,
     "metadata": {},
     "output_type": "execute_result"
    }
   ],
   "source": [
    "b1 + 5"
   ]
  },
  {
   "cell_type": "code",
   "execution_count": 153,
   "id": "fe76f7f0-0cbb-466b-91aa-3cf00fd6a71d",
   "metadata": {},
   "outputs": [
    {
     "data": {
      "text/plain": [
       "array([[ 2,  3],\n",
       "       [ 5,  6],\n",
       "       [ 8,  9],\n",
       "       [11, 12],\n",
       "       [14, 15]])"
      ]
     },
     "execution_count": 153,
     "metadata": {},
     "output_type": "execute_result"
    }
   ],
   "source": [
    "a11 + np.array([1,2,3,4,5]).reshape(5,1)"
   ]
  },
  {
   "cell_type": "code",
   "execution_count": null,
   "id": "de9cc059-2ba8-4304-8fc4-3fe7e7aadc56",
   "metadata": {},
   "outputs": [],
   "source": []
  },
  {
   "cell_type": "code",
   "execution_count": null,
   "id": "886eaa2e-e16e-47c5-bfe6-cce9ee9160a3",
   "metadata": {},
   "outputs": [],
   "source": []
  },
  {
   "cell_type": "code",
   "execution_count": null,
   "id": "d45e605f-01d0-45b5-a90f-905f2150fd34",
   "metadata": {},
   "outputs": [],
   "source": []
  }
 ],
 "metadata": {
  "kernelspec": {
   "display_name": "Python 3 (ipykernel)",
   "language": "python",
   "name": "python3"
  },
  "language_info": {
   "codemirror_mode": {
    "name": "ipython",
    "version": 3
   },
   "file_extension": ".py",
   "mimetype": "text/x-python",
   "name": "python",
   "nbconvert_exporter": "python",
   "pygments_lexer": "ipython3",
   "version": "3.11.5"
  }
 },
 "nbformat": 4,
 "nbformat_minor": 5
}
